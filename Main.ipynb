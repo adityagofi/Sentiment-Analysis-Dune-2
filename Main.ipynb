{
 "cells": [
  {
   "cell_type": "code",
   "execution_count": 1,
   "metadata": {},
   "outputs": [],
   "source": [
    "import requests\n",
    "from bs4 import BeautifulSoup\n",
    "import pandas as pd"
   ]
  },
  {
   "cell_type": "code",
   "execution_count": 2,
   "metadata": {},
   "outputs": [],
   "source": [
    "def get_reviews_and_ratings_from_page(url):\n",
    "    headers = {\n",
    "        \"User-Agent\": \"Mozilla/5.0 (Windows NT 10.0; Win64; x64) AppleWebKit/537.36 (KHTML, like Gecko) Chrome/58.0.3029.110 Safari/537.3\"\n",
    "    }\n",
    "    response = requests.get(url, headers=headers)\n",
    "    if response.status_code == 200:\n",
    "        soup = BeautifulSoup(response.content, 'html.parser')\n",
    "        review_containers = soup.find_all('div', class_='review-container')\n",
    "\n",
    "        reviews = []\n",
    "        ratings = []\n",
    "\n",
    "        for container in review_containers:\n",
    "            review_text = container.find('div', class_='text show-more__control').get_text()\n",
    "            reviews.append(review_text)\n",
    "            rating = container.find('span', class_='rating-other-user-rating')\n",
    "            if rating:\n",
    "                star_rating = rating.find_all('span')[0].get_text()\n",
    "                ratings.append(star_rating)\n",
    "            else:\n",
    "                ratings.append(None)\n",
    "        \n",
    "        return reviews, ratings\n",
    "    else:\n",
    "        print(f\"Failed to retrieve the page. Status code: {response.status_code}\")\n",
    "        return [], []"
   ]
  },
  {
   "cell_type": "code",
   "execution_count": 3,
   "metadata": {},
   "outputs": [],
   "source": [
    "base_url = \"https://www.imdb.com/title/tt15239678/reviews/_ajax?ref_=undefined&paginationKey=\"\n",
    "url = \"https://www.imdb.com/title/tt15239678/reviews/?ref_=ttrt_ql_2\""
   ]
  },
  {
   "cell_type": "code",
   "execution_count": 4,
   "metadata": {},
   "outputs": [],
   "source": [
    "reviews, ratings = get_reviews_and_ratings_from_page(url)\n",
    "\n",
    "# If more reviews exist, continue collecting them\n",
    "while len(reviews) < 2000:\n",
    "    soup = BeautifulSoup(requests.get(url, headers={\"User-Agent\": \"Mozilla/5.0\"}).content, 'html.parser')\n",
    "    next_button = soup.find('div', class_='load-more-data')\n",
    "    if not next_button:\n",
    "        break\n",
    "    key = next_button['data-key']\n",
    "    next_url = base_url + key\n",
    "    new_reviews, new_ratings = get_reviews_and_ratings_from_page(next_url)\n",
    "    reviews.extend(new_reviews)\n",
    "    ratings.extend(new_ratings)\n",
    "    if len(reviews) >= 2000:\n",
    "        reviews = reviews[:2000]\n",
    "        ratings = ratings[:2000]\n",
    "        break"
   ]
  },
  {
   "cell_type": "code",
   "execution_count": 5,
   "metadata": {},
   "outputs": [],
   "source": [
    "df = pd.DataFrame({\n",
    "    'Review': reviews,\n",
    "    'Rating': ratings\n",
    "})"
   ]
  },
  {
   "cell_type": "code",
   "execution_count": 6,
   "metadata": {},
   "outputs": [],
   "source": [
    "not_null_mask = df['Rating'].notnull()\n",
    "df.loc[not_null_mask, 'Rating'] = df.loc[not_null_mask, 'Rating'].astype(int)"
   ]
  },
  {
   "cell_type": "code",
   "execution_count": 7,
   "metadata": {},
   "outputs": [
    {
     "name": "stderr",
     "output_type": "stream",
     "text": [
      "C:\\Users\\ACER\\AppData\\Local\\Temp\\ipykernel_24456\\2969992095.py:1: FutureWarning: A value is trying to be set on a copy of a DataFrame or Series through chained assignment using an inplace method.\n",
      "The behavior will change in pandas 3.0. This inplace method will never work because the intermediate object on which we are setting values always behaves as a copy.\n",
      "\n",
      "For example, when doing 'df[col].method(value, inplace=True)', try using 'df.method({col: value}, inplace=True)' or df[col] = df[col].method(value) instead, to perform the operation inplace on the original object.\n",
      "\n",
      "\n",
      "  df['Rating'].fillna(df['Rating'].mean(), inplace=True)\n",
      "C:\\Users\\ACER\\AppData\\Local\\Temp\\ipykernel_24456\\2969992095.py:1: FutureWarning: Downcasting object dtype arrays on .fillna, .ffill, .bfill is deprecated and will change in a future version. Call result.infer_objects(copy=False) instead. To opt-in to the future behavior, set `pd.set_option('future.no_silent_downcasting', True)`\n",
      "  df['Rating'].fillna(df['Rating'].mean(), inplace=True)\n"
     ]
    }
   ],
   "source": [
    "df['Rating'].fillna(df['Rating'].mean(), inplace=True)\n",
    "df.to_csv('imdb_reviews and ratings.csv', index=False)"
   ]
  },
  {
   "cell_type": "code",
   "execution_count": 8,
   "metadata": {},
   "outputs": [
    {
     "data": {
      "text/plain": [
       "Review    0\n",
       "Rating    0\n",
       "dtype: int64"
      ]
     },
     "execution_count": 8,
     "metadata": {},
     "output_type": "execute_result"
    }
   ],
   "source": [
    "df = pd.read_csv('imdb_reviews and ratings.csv')\n",
    "df.isna().sum()"
   ]
  },
  {
   "cell_type": "code",
   "execution_count": 9,
   "metadata": {},
   "outputs": [],
   "source": [
    "df[\"Sentiment\"] = df['Rating'].apply(lambda x: 'Positive' if x > 5 else 'Negative' )"
   ]
  },
  {
   "cell_type": "code",
   "execution_count": 10,
   "metadata": {},
   "outputs": [],
   "source": [
    "import matplotlib.pyplot as plt\n",
    "import seaborn as sns"
   ]
  },
  {
   "cell_type": "code",
   "execution_count": 11,
   "metadata": {},
   "outputs": [
    {
     "data": {
      "image/png": "[encoded data removed]",
      "text/plain": [
       "<Figure size 640x480 with 1 Axes>"
      ]
     },
     "metadata": {},
     "output_type": "display_data"
    }
   ],
   "source": [
    "plt.bar(df['Sentiment'].value_counts().index, df['Sentiment'].value_counts().values, width=0.4,) \n",
    "plt.title('Sentiment Distribution')\n",
    "plt.xlabel('Sentiment')\n",
    "plt.ylabel('Count')\n",
    "\n",
    "for i in range(len(df['Sentiment'].value_counts().values)):\n",
    "    plt.text(i, df['Sentiment'].value_counts().values[i], df['Sentiment'].value_counts().values[i], ha = 'center')"
   ]
  },
  {
   "cell_type": "code",
   "execution_count": 12,
   "metadata": {},
   "outputs": [],
   "source": [
    "df.to_csv('Sentiment_Data.csv', index=False)"
   ]
  }
 ],
 "metadata": {
  "kernelspec": {
   "display_name": "Python 3",
   "language": "python",
   "name": "python3"
  },
  "language_info": {
   "codemirror_mode": {
    "name": "ipython",
    "version": 3
   },
   "file_extension": ".py",
   "mimetype": "text/x-python",
   "name": "python",
   "nbconvert_exporter": "python",
   "pygments_lexer": "ipython3",
   "version": "3.12.3"
  }
 },
 "nbformat": 4,
 "nbformat_minor": 2
}
