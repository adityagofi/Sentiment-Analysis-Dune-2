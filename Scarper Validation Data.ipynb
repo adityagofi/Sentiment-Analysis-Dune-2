{
 "cells": [
  {
   "cell_type": "code",
   "execution_count": 1,
   "metadata": {},
   "outputs": [
    {
     "name": "stdout",
     "output_type": "stream",
     "text": [
      "Reviews have been scraped and saved to rottentomatoes_reviews.csv\n"
     ]
    }
   ],
   "source": [
    "import requests\n",
    "from bs4 import BeautifulSoup\n",
    "import pandas as pd\n",
    "\n"
   ]
  },
  {
   "cell_type": "code",
   "execution_count": 3,
   "metadata": {},
   "outputs": [
    {
     "name": "stdout",
     "output_type": "stream",
     "text": [
      "Reviews have been scraped and saved to rottentomatoes_reviews.csv\n"
     ]
    }
   ],
   "source": [
    "url = \"https://www.rottentomatoes.com/m/dune_part_two/reviews\"\n",
    "headers = {\n",
    "    \"User-Agent\": \"Mozilla/5.0 (Windows NT 10.0; Win64; x64) AppleWebKit/537.36 (KHTML, like Gecko) Chrome/58.0.3029.110 Safari/537.3\"\n",
    "}\n",
    "response = requests.get(url, headers=headers)\n",
    "if response.status_code == 200:\n",
    "    # Parse the HTML content using BeautifulSoup\n",
    "    soup = BeautifulSoup(response.content, 'html.parser')\n",
    "\n",
    "    # Find all the review containers\n",
    "    review_containers = soup.find_all('div', class_='the_review')\n",
    "    rating_containers = soup.find_all('div', class_='review_area')\n",
    "\n",
    "    reviews = []\n",
    "    ratings = []\n",
    "\n",
    "    for container in review_containers:\n",
    "        review_text = container.get_text(strip=True)\n",
    "        reviews.append(review_text)\n",
    "    \n",
    "    for rating in rating_containers:\n",
    "        rating_value = rating.find('span', class_='').get('class')[1] if rating.find('span', class_='') else None\n",
    "        ratings.append(rating_value)\n",
    "\n",
    "    # Save reviews to a DataFrame\n",
    "    df = pd.DataFrame({\n",
    "        'Review': reviews,\n",
    "        'Rating': ratings\n",
    "    })\n",
    "\n",
    "    df.to_csv('rottentomatoes_reviews.csv', index=False)\n",
    "    print(\"Reviews have been scraped and saved to rottentomatoes_reviews.csv\")\n",
    "else:\n",
    "    print(f\"Failed to retrieve the page. Status code: {response.status_code}\")\n"
   ]
  }
 ],
 "metadata": {
  "kernelspec": {
   "display_name": "Python 3",
   "language": "python",
   "name": "python3"
  },
  "language_info": {
   "name": "python",
   "version": "3.12.3"
  }
 },
 "nbformat": 4,
 "nbformat_minor": 2
}
